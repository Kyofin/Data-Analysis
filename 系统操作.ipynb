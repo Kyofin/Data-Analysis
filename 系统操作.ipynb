{
 "cells": [
  {
   "cell_type": "markdown",
   "metadata": {},
   "source": [
    "## 生成jupyter密码"
   ]
  },
  {
   "cell_type": "code",
   "execution_count": 9,
   "metadata": {},
   "outputs": [
    {
     "name": "stdout",
     "output_type": "stream",
     "text": [
      "Enter password: ········\n",
      "Verify password: ········\n"
     ]
    },
    {
     "data": {
      "text/plain": [
       "'sha1:99ef402c38c4:375088f7a3d1e26ca1a3f1b5f34fa31977de9c9a'"
      ]
     },
     "execution_count": 9,
     "metadata": {},
     "output_type": "execute_result"
    }
   ],
   "source": [
    "from notebook.auth import passwd\n",
    "passwd()"
   ]
  },
  {
   "cell_type": "code",
   "execution_count": 2,
   "metadata": {
    "code_folding": []
   },
   "outputs": [
    {
     "name": "stdout",
     "output_type": "stream",
     "text": [
      "\u001b[33mDEPRECATION: Python 2.7 will reach the end of its life on January 1st, 2020. Please upgrade your Python as Python 2.7 won't be maintained after that date. A future version of pip will drop support for Python 2.7.\u001b[0m\n",
      "Collecting yapf\n",
      "\u001b[?25l  Downloading https://files.pythonhosted.org/packages/bb/f1/d453afc8653f49edf6382dd43f69bef1a1df3e240949eba8b7adb649b868/yapf-0.27.0-py2.py3-none-any.whl (178kB)\n",
      "\u001b[K    100% |████████████████████████████████| 184kB 14kB/s ta 0:00:015\n",
      "\u001b[?25hInstalling collected packages: yapf\n",
      "Successfully installed yapf-0.27.0\n"
     ]
    }
   ],
   "source": [
    "!pip install yapf"
   ]
  },
  {
   "cell_type": "code",
   "execution_count": 8,
   "metadata": {},
   "outputs": [
    {
     "name": "stdout",
     "output_type": "stream",
     "text": [
      "\u001b[33mDEPRECATION: Python 2.7 will reach the end of its life on January 1st, 2020. Please upgrade your Python as Python 2.7 won't be maintained after that date. A future version of pip will drop support for Python 2.7.\u001b[0m\n",
      "Collecting selenium\n",
      "\u001b[?25l  Downloading https://files.pythonhosted.org/packages/80/d6/4294f0b4bce4de0abf13e17190289f9d0613b0a44e5dd6a7f5ca98459853/selenium-3.141.0-py2.py3-none-any.whl (904kB)\n",
      "\u001b[K    100% |████████████████████████████████| 911kB 22kB/s ta 0:00:01\n",
      "\u001b[?25hRequirement already satisfied: urllib3 in /root/anaconda2/lib/python2.7/site-packages (from selenium) (1.21.1)\n",
      "Installing collected packages: selenium\n",
      "Successfully installed selenium-3.141.0\n"
     ]
    }
   ],
   "source": [
    "!python2 -m pip install selenium"
   ]
  },
  {
   "cell_type": "code",
   "execution_count": 13,
   "metadata": {},
   "outputs": [
    {
     "name": "stdout",
     "output_type": "stream",
     "text": [
      "\u001b[33mDEPRECATION: Python 2.7 will reach the end of its life on January 1st, 2020. Please upgrade your Python as Python 2.7 won't be maintained after that date. A future version of pip will drop support for Python 2.7.\u001b[0m\n",
      "Name: selenium\n",
      "Version: 3.141.0\n",
      "Summary: Python bindings for Selenium\n",
      "Home-page: https://github.com/SeleniumHQ/selenium/\n",
      "Author: UNKNOWN\n",
      "Author-email: UNKNOWN\n",
      "License: Apache 2.0\n",
      "Location: /root/anaconda2/lib/python2.7/site-packages\n",
      "Requires: urllib3\n",
      "Required-by: \n"
     ]
    }
   ],
   "source": [
    "!python2 -m pip show selenium"
   ]
  },
  {
   "cell_type": "code",
   "execution_count": 23,
   "metadata": {
    "scrolled": false
   },
   "outputs": [
    {
     "ename": "WebDriverException",
     "evalue": "Message: 'chromedriver' executable needs to be in PATH. Please see https://sites.google.com/a/chromium.org/chromedriver/home\n",
     "output_type": "error",
     "traceback": [
      "\u001b[0;31m---------------------------------------------------------------------------\u001b[0m",
      "\u001b[0;31mWebDriverException\u001b[0m                        Traceback (most recent call last)",
      "\u001b[0;32m<ipython-input-23-d8d03fa79ee2>\u001b[0m in \u001b[0;36m<module>\u001b[0;34m()\u001b[0m\n\u001b[1;32m      1\u001b[0m \u001b[0;32mfrom\u001b[0m \u001b[0mselenium\u001b[0m \u001b[0;32mimport\u001b[0m \u001b[0mwebdriver\u001b[0m\u001b[0;34m\u001b[0m\u001b[0m\n\u001b[1;32m      2\u001b[0m \u001b[0;34m\u001b[0m\u001b[0m\n\u001b[0;32m----> 3\u001b[0;31m \u001b[0mdriver\u001b[0m \u001b[0;34m=\u001b[0m \u001b[0mwebdriver\u001b[0m\u001b[0;34m.\u001b[0m\u001b[0mChrome\u001b[0m\u001b[0;34m(\u001b[0m\u001b[0;34m)\u001b[0m\u001b[0;34m\u001b[0m\u001b[0m\n\u001b[0m\u001b[1;32m      4\u001b[0m \u001b[0;34m\u001b[0m\u001b[0m\n",
      "\u001b[0;32m/root/anaconda2/lib/python2.7/site-packages/selenium/webdriver/chrome/webdriver.pyc\u001b[0m in \u001b[0;36m__init__\u001b[0;34m(self, executable_path, port, options, service_args, desired_capabilities, service_log_path, chrome_options, keep_alive)\u001b[0m\n\u001b[1;32m     71\u001b[0m             \u001b[0mservice_args\u001b[0m\u001b[0;34m=\u001b[0m\u001b[0mservice_args\u001b[0m\u001b[0;34m,\u001b[0m\u001b[0;34m\u001b[0m\u001b[0m\n\u001b[1;32m     72\u001b[0m             log_path=service_log_path)\n\u001b[0;32m---> 73\u001b[0;31m         \u001b[0mself\u001b[0m\u001b[0;34m.\u001b[0m\u001b[0mservice\u001b[0m\u001b[0;34m.\u001b[0m\u001b[0mstart\u001b[0m\u001b[0;34m(\u001b[0m\u001b[0;34m)\u001b[0m\u001b[0;34m\u001b[0m\u001b[0m\n\u001b[0m\u001b[1;32m     74\u001b[0m \u001b[0;34m\u001b[0m\u001b[0m\n\u001b[1;32m     75\u001b[0m         \u001b[0;32mtry\u001b[0m\u001b[0;34m:\u001b[0m\u001b[0;34m\u001b[0m\u001b[0m\n",
      "\u001b[0;32m/root/anaconda2/lib/python2.7/site-packages/selenium/webdriver/common/service.pyc\u001b[0m in \u001b[0;36mstart\u001b[0;34m(self)\u001b[0m\n\u001b[1;32m     81\u001b[0m                 raise WebDriverException(\n\u001b[1;32m     82\u001b[0m                     \"'%s' executable needs to be in PATH. %s\" % (\n\u001b[0;32m---> 83\u001b[0;31m                         os.path.basename(self.path), self.start_error_message)\n\u001b[0m\u001b[1;32m     84\u001b[0m                 )\n\u001b[1;32m     85\u001b[0m             \u001b[0;32melif\u001b[0m \u001b[0merr\u001b[0m\u001b[0;34m.\u001b[0m\u001b[0merrno\u001b[0m \u001b[0;34m==\u001b[0m \u001b[0merrno\u001b[0m\u001b[0;34m.\u001b[0m\u001b[0mEACCES\u001b[0m\u001b[0;34m:\u001b[0m\u001b[0;34m\u001b[0m\u001b[0m\n",
      "\u001b[0;31mWebDriverException\u001b[0m: Message: 'chromedriver' executable needs to be in PATH. Please see https://sites.google.com/a/chromium.org/chromedriver/home\n"
     ]
    }
   ],
   "source": [
    "from selenium import webdriver\n",
    "\n",
    "driver = webdriver.Chrome()\n",
    "\n"
   ]
  },
  {
   "cell_type": "code",
   "execution_count": null,
   "metadata": {},
   "outputs": [],
   "source": [
    "{\n",
    "    \"python\": {\n",
    "        \"library\":\n",
    "        \"import json\\ndef yapf_reformat(cell_text):\\n    import yapf.yapflib.yapf_api\\n    import re\\n    cell_text = re.sub('^%', '#%#', cell_text, flags=re.M)\\n    reformated_text = yapf.yapflib.yapf_api.FormatCode(cell_text)[0]\\n    return re.sub('^#%#', '%', reformated_text, flags=re.M)\",\n",
    "        \"prefix\": \"print(json.dumps(yapf_reformat(u\",\n",
    "        \"postfix\": \")))\"\n",
    "    },\n",
    "    \"r\": {\n",
    "        \"library\": \"library(formatR)\\nlibrary(jsonlite)\",\n",
    "        \"prefix\": \"cat(toJSON(paste(tidy_source(text=\",\n",
    "        \"postfix\": \", output=FALSE)[['text.tidy']], collapse='\\n')))\"\n",
    "    },\n",
    "    \"javascript\": {\n",
    "        \"library\": \"jsbeautify = require('js-beautify')\",\n",
    "        \"prefix\": \"console.log(JSON.stringify(jsbeautify.js_beautify(\",\n",
    "        \"postfix\": \")));\"\n",
    "    }\n",
    "}"
   ]
  },
  {
   "cell_type": "code",
   "execution_count": 4,
   "metadata": {},
   "outputs": [
    {
     "name": "stdout",
     "output_type": "stream",
     "text": [
      "Cloning into 'Data-Analysis'...\n",
      "remote: Enumerating objects: 13, done.\u001b[K\n",
      "remote: Counting objects: 100% (13/13), done.\u001b[K\n",
      "remote: Compressing objects: 100% (12/12), done.\u001b[K\n",
      "remote: Total 13 (delta 1), reused 13 (delta 1), pack-reused 0\u001b[K\n",
      "Unpacking objects: 100% (13/13), done.\n"
     ]
    }
   ],
   "source": [
    "!git clone https://github.com/huzekang/Data-Analysis.git"
   ]
  },
  {
   "cell_type": "code",
   "execution_count": 1,
   "metadata": {},
   "outputs": [
    {
     "name": "stdout",
     "output_type": "stream",
     "text": [
      "/root/anaconda2/lib/python2.7/site-packages/matplotlib/mpl-data/matplotlibrc\n"
     ]
    }
   ],
   "source": [
    "import matplotlib\n",
    "print(matplotlib.matplotlib_fname())\n"
   ]
  },
  {
   "cell_type": "code",
   "execution_count": 8,
   "metadata": {},
   "outputs": [
    {
     "name": "stdout",
     "output_type": "stream",
     "text": [
      "Filesystem               Size  Used Avail Use% Mounted on\r\n",
      "/dev/mapper/centos-root   17G   14G  3.8G  78% /\r\n",
      "devtmpfs                 2.9G     0  2.9G   0% /dev\r\n",
      "tmpfs                    2.9G     0  2.9G   0% /dev/shm\r\n",
      "tmpfs                    2.9G   98M  2.8G   4% /run\r\n",
      "tmpfs                    2.9G     0  2.9G   0% /sys/fs/cgroup\r\n",
      "/dev/sda1               1014M  179M  836M  18% /boot\r\n",
      "tmpfs                    585M   68K  585M   1% /run/user/0\r\n",
      "overlay                   17G   14G  3.8G  78% /var/lib/docker/overlay2/c37d593cac3dd288b5296469cc539a331e626d0c8fb59a358e9d4fb1fc9e73ad/merged\r\n",
      "shm                       64M     0   64M   0% /var/lib/docker/containers/970bb581c71dad184f6b8e12f8540020fe4f124271b90173d53277944d07a301/shm\r\n",
      "overlay                   17G   14G  3.8G  78% /var/lib/docker/overlay2/63b41a64414cb4dbbb07f288daa871cbb0da5600cb0a6e42eb18b0e7566c1662/merged\r\n",
      "shm                       64M     0   64M   0% /var/lib/docker/containers/0783b084043ca8389039ac5d24b4a8411aba1ae81186435e1568d14517ffd74e/shm\r\n",
      "overlay                   17G   14G  3.8G  78% /var/lib/docker/overlay2/2c48110c710c739d0d0318b5379c9bdadd42e282e349afc6e3004257b81b7c15/merged\r\n",
      "shm                       64M   52K   64M   1% /var/lib/docker/containers/82df4d8df9fb2a52f28a8abab0006150a8d70c20e3c6f4020d6c6b8b1ff4b041/shm\r\n",
      "tmpfs                    585M  8.0K  585M   1% /run/user/42\r\n",
      "/dev/sr0                  11G   11G     0 100% /run/media/hzk/CentOS 7 x86_64\r\n"
     ]
    }
   ],
   "source": [
    "!df -h\n",
    "\n"
   ]
  },
  {
   "cell_type": "markdown",
   "metadata": {},
   "source": [
    "## 引入spark"
   ]
  },
  {
   "cell_type": "code",
   "execution_count": null,
   "metadata": {},
   "outputs": [
    {
     "name": "stdout",
     "output_type": "stream",
     "text": [
      "\u001b[33mDEPRECATION: Python 2.7 will reach the end of its life on January 1st, 2020. Please upgrade your Python as Python 2.7 won't be maintained after that date. A future version of pip will drop support for Python 2.7.\u001b[0m\n",
      "Collecting pyspark\n",
      "\u001b[33m  Cache entry deserialization failed, entry ignored\u001b[0m\n",
      "\u001b[?25l  Downloading https://files.pythonhosted.org/packages/37/98/244399c0daa7894cdf387e7007d5e8b3710a79b67f3fd991c0b0b644822d/pyspark-2.4.3.tar.gz (215.6MB)\n",
      "\u001b[K    1% |▋                               | 4.2MB 42kB/s eta 1:22:5056"
     ]
    }
   ],
   "source": [
    "!pip install pyspark"
   ]
  },
  {
   "cell_type": "code",
   "execution_count": 3,
   "metadata": {},
   "outputs": [
    {
     "name": "stdout",
     "output_type": "stream",
     "text": [
      "Filesystem               Size  Used Avail Use% Mounted on\r\n",
      "/dev/mapper/centos-root   17G   17G  208M  99% /\r\n",
      "devtmpfs                 2.9G     0  2.9G   0% /dev\r\n",
      "tmpfs                    2.9G     0  2.9G   0% /dev/shm\r\n",
      "tmpfs                    2.9G   22M  2.9G   1% /run\r\n",
      "tmpfs                    2.9G     0  2.9G   0% /sys/fs/cgroup\r\n",
      "/dev/sda1               1014M  179M  836M  18% /boot\r\n",
      "tmpfs                    585M  4.0K  585M   1% /run/user/42\r\n",
      "overlay                   17G   17G  208M  99% /var/lib/docker/overlay2/63b41a64414cb4dbbb07f288daa871cbb0da5600cb0a6e42eb18b0e7566c1662/merged\r\n",
      "overlay                   17G   17G  208M  99% /var/lib/docker/overlay2/f450168c41b3afcfe56b30268948b5b2752fb5dc0eca9a479149c3a6abf29353/merged\r\n",
      "overlay                   17G   17G  208M  99% /var/lib/docker/overlay2/132be414c2714d2c82899947f44fa5da86ffb9578f7e6392f3254a3b4a3eaf1f/merged\r\n",
      "overlay                   17G   17G  208M  99% /var/lib/docker/overlay2/c37d593cac3dd288b5296469cc539a331e626d0c8fb59a358e9d4fb1fc9e73ad/merged\r\n",
      "overlay                   17G   17G  208M  99% /var/lib/docker/overlay2/2c48110c710c739d0d0318b5379c9bdadd42e282e349afc6e3004257b81b7c15/merged\r\n",
      "shm                       64M     0   64M   0% /var/lib/docker/containers/7f8233db6fc5914e909ed1ff295b701530c866a7ca66ee07cf23ed8419498968/shm\r\n",
      "shm                       64M     0   64M   0% /var/lib/docker/containers/0783b084043ca8389039ac5d24b4a8411aba1ae81186435e1568d14517ffd74e/shm\r\n",
      "shm                       64M     0   64M   0% /var/lib/docker/containers/970bb581c71dad184f6b8e12f8540020fe4f124271b90173d53277944d07a301/shm\r\n",
      "shm                       64M   52K   64M   1% /var/lib/docker/containers/82df4d8df9fb2a52f28a8abab0006150a8d70c20e3c6f4020d6c6b8b1ff4b041/shm\r\n",
      "shm                       64M     0   64M   0% /var/lib/docker/containers/9979a26c24c7aa28e25e99eb3f60406b511b446038ff7b53d6fdb9085d92841e/shm\r\n",
      "tmpfs                    585M   56K  585M   1% /run/user/0\r\n",
      "/dev/sr0                  11G   11G     0 100% /run/media/root/CentOS 7 x86_64\r\n"
     ]
    }
   ],
   "source": [
    "!df -h"
   ]
  }
 ],
 "metadata": {
  "kernelspec": {
   "display_name": "Python 2",
   "language": "python",
   "name": "python2"
  },
  "language_info": {
   "codemirror_mode": {
    "name": "ipython",
    "version": 2
   },
   "file_extension": ".py",
   "mimetype": "text/x-python",
   "name": "python",
   "nbconvert_exporter": "python",
   "pygments_lexer": "ipython2",
   "version": "2.7.16"
  },
  "toc": {
   "base_numbering": 1,
   "nav_menu": {},
   "number_sections": true,
   "sideBar": true,
   "skip_h1_title": false,
   "title_cell": "Table of Contents",
   "title_sidebar": "Contents",
   "toc_cell": false,
   "toc_position": {},
   "toc_section_display": true,
   "toc_window_display": false
  }
 },
 "nbformat": 4,
 "nbformat_minor": 2
}
