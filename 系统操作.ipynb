{
 "cells": [
  {
   "cell_type": "code",
   "execution_count": 2,
   "metadata": {
    "code_folding": []
   },
   "outputs": [
    {
     "name": "stdout",
     "output_type": "stream",
     "text": [
      "\u001b[33mDEPRECATION: Python 2.7 will reach the end of its life on January 1st, 2020. Please upgrade your Python as Python 2.7 won't be maintained after that date. A future version of pip will drop support for Python 2.7.\u001b[0m\n",
      "Collecting yapf\n",
      "\u001b[?25l  Downloading https://files.pythonhosted.org/packages/bb/f1/d453afc8653f49edf6382dd43f69bef1a1df3e240949eba8b7adb649b868/yapf-0.27.0-py2.py3-none-any.whl (178kB)\n",
      "\u001b[K    100% |████████████████████████████████| 184kB 14kB/s ta 0:00:015\n",
      "\u001b[?25hInstalling collected packages: yapf\n",
      "Successfully installed yapf-0.27.0\n"
     ]
    }
   ],
   "source": [
    "!pip install yapf"
   ]
  },
  {
   "cell_type": "code",
   "execution_count": null,
   "metadata": {},
   "outputs": [],
   "source": [
    "{\n",
    "    \"python\": {\n",
    "        \"library\":\n",
    "        \"import json\\ndef yapf_reformat(cell_text):\\n    import yapf.yapflib.yapf_api\\n    import re\\n    cell_text = re.sub('^%', '#%#', cell_text, flags=re.M)\\n    reformated_text = yapf.yapflib.yapf_api.FormatCode(cell_text)[0]\\n    return re.sub('^#%#', '%', reformated_text, flags=re.M)\",\n",
    "        \"prefix\": \"print(json.dumps(yapf_reformat(u\",\n",
    "        \"postfix\": \")))\"\n",
    "    },\n",
    "    \"r\": {\n",
    "        \"library\": \"library(formatR)\\nlibrary(jsonlite)\",\n",
    "        \"prefix\": \"cat(toJSON(paste(tidy_source(text=\",\n",
    "        \"postfix\": \", output=FALSE)[['text.tidy']], collapse='\\n')))\"\n",
    "    },\n",
    "    \"javascript\": {\n",
    "        \"library\": \"jsbeautify = require('js-beautify')\",\n",
    "        \"prefix\": \"console.log(JSON.stringify(jsbeautify.js_beautify(\",\n",
    "        \"postfix\": \")));\"\n",
    "    }\n",
    "}"
   ]
  },
  {
   "cell_type": "code",
   "execution_count": 4,
   "metadata": {},
   "outputs": [
    {
     "name": "stdout",
     "output_type": "stream",
     "text": [
      "Cloning into 'Data-Analysis'...\n",
      "remote: Enumerating objects: 13, done.\u001b[K\n",
      "remote: Counting objects: 100% (13/13), done.\u001b[K\n",
      "remote: Compressing objects: 100% (12/12), done.\u001b[K\n",
      "remote: Total 13 (delta 1), reused 13 (delta 1), pack-reused 0\u001b[K\n",
      "Unpacking objects: 100% (13/13), done.\n"
     ]
    }
   ],
   "source": [
    "!git clone https://github.com/huzekang/Data-Analysis.git"
   ]
  },
  {
   "cell_type": "code",
   "execution_count": 1,
   "metadata": {},
   "outputs": [
    {
     "name": "stdout",
     "output_type": "stream",
     "text": [
      "/root/anaconda2/lib/python2.7/site-packages/matplotlib/mpl-data/matplotlibrc\n"
     ]
    }
   ],
   "source": [
    "import matplotlib\n",
    "print(matplotlib.matplotlib_fname())\n"
   ]
  },
  {
   "cell_type": "code",
   "execution_count": 8,
   "metadata": {},
   "outputs": [
    {
     "name": "stdout",
     "output_type": "stream",
     "text": [
      "Filesystem               Size  Used Avail Use% Mounted on\r\n",
      "/dev/mapper/centos-root   17G   14G  3.8G  78% /\r\n",
      "devtmpfs                 2.9G     0  2.9G   0% /dev\r\n",
      "tmpfs                    2.9G     0  2.9G   0% /dev/shm\r\n",
      "tmpfs                    2.9G   98M  2.8G   4% /run\r\n",
      "tmpfs                    2.9G     0  2.9G   0% /sys/fs/cgroup\r\n",
      "/dev/sda1               1014M  179M  836M  18% /boot\r\n",
      "tmpfs                    585M   68K  585M   1% /run/user/0\r\n",
      "overlay                   17G   14G  3.8G  78% /var/lib/docker/overlay2/c37d593cac3dd288b5296469cc539a331e626d0c8fb59a358e9d4fb1fc9e73ad/merged\r\n",
      "shm                       64M     0   64M   0% /var/lib/docker/containers/970bb581c71dad184f6b8e12f8540020fe4f124271b90173d53277944d07a301/shm\r\n",
      "overlay                   17G   14G  3.8G  78% /var/lib/docker/overlay2/63b41a64414cb4dbbb07f288daa871cbb0da5600cb0a6e42eb18b0e7566c1662/merged\r\n",
      "shm                       64M     0   64M   0% /var/lib/docker/containers/0783b084043ca8389039ac5d24b4a8411aba1ae81186435e1568d14517ffd74e/shm\r\n",
      "overlay                   17G   14G  3.8G  78% /var/lib/docker/overlay2/2c48110c710c739d0d0318b5379c9bdadd42e282e349afc6e3004257b81b7c15/merged\r\n",
      "shm                       64M   52K   64M   1% /var/lib/docker/containers/82df4d8df9fb2a52f28a8abab0006150a8d70c20e3c6f4020d6c6b8b1ff4b041/shm\r\n",
      "tmpfs                    585M  8.0K  585M   1% /run/user/42\r\n",
      "/dev/sr0                  11G   11G     0 100% /run/media/hzk/CentOS 7 x86_64\r\n"
     ]
    }
   ],
   "source": [
    "!df -h\n",
    "\n"
   ]
  },
  {
   "cell_type": "markdown",
   "metadata": {},
   "source": [
    "## 生成jupyter密码"
   ]
  },
  {
   "cell_type": "code",
   "execution_count": 9,
   "metadata": {},
   "outputs": [
    {
     "name": "stdout",
     "output_type": "stream",
     "text": [
      "Enter password: ········\n",
      "Verify password: ········\n"
     ]
    },
    {
     "data": {
      "text/plain": [
       "'sha1:99ef402c38c4:375088f7a3d1e26ca1a3f1b5f34fa31977de9c9a'"
      ]
     },
     "execution_count": 9,
     "metadata": {},
     "output_type": "execute_result"
    }
   ],
   "source": [
    "from notebook.auth import passwd\n",
    "passwd()"
   ]
  }
 ],
 "metadata": {
  "kernelspec": {
   "display_name": "Python 2",
   "language": "python",
   "name": "python2"
  },
  "language_info": {
   "codemirror_mode": {
    "name": "ipython",
    "version": 2
   },
   "file_extension": ".py",
   "mimetype": "text/x-python",
   "name": "python",
   "nbconvert_exporter": "python",
   "pygments_lexer": "ipython2",
   "version": "2.7.16"
  },
  "toc": {
   "base_numbering": 1,
   "nav_menu": {},
   "number_sections": true,
   "sideBar": true,
   "skip_h1_title": false,
   "title_cell": "Table of Contents",
   "title_sidebar": "Contents",
   "toc_cell": false,
   "toc_position": {},
   "toc_section_display": true,
   "toc_window_display": false
  }
 },
 "nbformat": 4,
 "nbformat_minor": 2
}
