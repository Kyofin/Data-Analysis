{
 "cells": [
  {
   "cell_type": "markdown",
   "metadata": {},
   "source": [
    "# 10 Minutes to pandas\n",
    "- 参考：https://pandas.pydata.org/pandas-docs/stable/getting_started/10min.html"
   ]
  },
  {
   "cell_type": "markdown",
   "metadata": {},
   "source": [
    "## Import dependence"
   ]
  },
  {
   "cell_type": "code",
   "execution_count": 115,
   "metadata": {},
   "outputs": [],
   "source": [
    "import numpy as np\n",
    "import pandas as pd"
   ]
  },
  {
   "cell_type": "markdown",
   "metadata": {},
   "source": [
    "## Create Object"
   ]
  },
  {
   "cell_type": "markdown",
   "metadata": {},
   "source": [
    "### Creating a Series by passing a list of values, letting pandas create a default integer index\n",
    "\n"
   ]
  },
  {
   "cell_type": "code",
   "execution_count": 116,
   "metadata": {},
   "outputs": [
    {
     "data": {
      "text/plain": [
       "0        1\n",
       "1        3\n",
       "2       54\n",
       "3      NaN\n",
       "4        6\n",
       "5        8\n",
       "6      NaN\n",
       "7    hello\n",
       "dtype: object"
      ]
     },
     "execution_count": 116,
     "metadata": {},
     "output_type": "execute_result"
    }
   ],
   "source": [
    "s = pd.Series([1,3,54,np.nan,6,8,np.nan,'hello'])\n",
    "s"
   ]
  },
  {
   "cell_type": "code",
   "execution_count": 117,
   "metadata": {},
   "outputs": [
    {
     "data": {
      "text/plain": [
       "0     1.0\n",
       "1     3.0\n",
       "2    54.0\n",
       "3     NaN\n",
       "4     6.0\n",
       "5     8.0\n",
       "6     NaN\n",
       "dtype: float64"
      ]
     },
     "execution_count": 117,
     "metadata": {},
     "output_type": "execute_result"
    }
   ],
   "source": [
    "v = pd.Series([1,3,54,np.nan,6,8,np.nan])\n",
    "v"
   ]
  },
  {
   "cell_type": "markdown",
   "metadata": {
    "code_folding": []
   },
   "source": [
    "### Creating a DataFrame by passing a NumPy array, with a datetime index and labeled columns"
   ]
  },
  {
   "cell_type": "code",
   "execution_count": 118,
   "metadata": {},
   "outputs": [
    {
     "data": {
      "text/plain": [
       "DatetimeIndex(['2019-05-01', '2019-05-02', '2019-05-03', '2019-05-04',\n",
       "               '2019-05-05', '2019-05-06'],\n",
       "              dtype='datetime64[ns]', freq='D')"
      ]
     },
     "execution_count": 118,
     "metadata": {},
     "output_type": "execute_result"
    }
   ],
   "source": [
    "dates = pd.date_range('20190501',periods=6)\n",
    "dates"
   ]
  },
  {
   "cell_type": "code",
   "execution_count": 119,
   "metadata": {},
   "outputs": [
    {
     "data": {
      "text/html": [
       "<div>\n",
       "<style scoped>\n",
       "    .dataframe tbody tr th:only-of-type {\n",
       "        vertical-align: middle;\n",
       "    }\n",
       "\n",
       "    .dataframe tbody tr th {\n",
       "        vertical-align: top;\n",
       "    }\n",
       "\n",
       "    .dataframe thead th {\n",
       "        text-align: right;\n",
       "    }\n",
       "</style>\n",
       "<table border=\"1\" class=\"dataframe\">\n",
       "  <thead>\n",
       "    <tr style=\"text-align: right;\">\n",
       "      <th></th>\n",
       "      <th>A</th>\n",
       "      <th>B</th>\n",
       "      <th>C</th>\n",
       "      <th>D</th>\n",
       "      <th>E</th>\n",
       "    </tr>\n",
       "  </thead>\n",
       "  <tbody>\n",
       "    <tr>\n",
       "      <th>2019-05-01</th>\n",
       "      <td>0.315118</td>\n",
       "      <td>0.966615</td>\n",
       "      <td>0.992685</td>\n",
       "      <td>0.214536</td>\n",
       "      <td>0.292566</td>\n",
       "    </tr>\n",
       "    <tr>\n",
       "      <th>2019-05-02</th>\n",
       "      <td>0.584462</td>\n",
       "      <td>0.520410</td>\n",
       "      <td>0.493577</td>\n",
       "      <td>0.672422</td>\n",
       "      <td>0.624682</td>\n",
       "    </tr>\n",
       "    <tr>\n",
       "      <th>2019-05-03</th>\n",
       "      <td>0.921174</td>\n",
       "      <td>0.412787</td>\n",
       "      <td>0.005845</td>\n",
       "      <td>0.025251</td>\n",
       "      <td>0.471946</td>\n",
       "    </tr>\n",
       "    <tr>\n",
       "      <th>2019-05-04</th>\n",
       "      <td>0.163483</td>\n",
       "      <td>0.515057</td>\n",
       "      <td>0.312956</td>\n",
       "      <td>0.396357</td>\n",
       "      <td>0.997597</td>\n",
       "    </tr>\n",
       "    <tr>\n",
       "      <th>2019-05-05</th>\n",
       "      <td>0.920280</td>\n",
       "      <td>0.135982</td>\n",
       "      <td>0.436941</td>\n",
       "      <td>0.741011</td>\n",
       "      <td>0.486268</td>\n",
       "    </tr>\n",
       "    <tr>\n",
       "      <th>2019-05-06</th>\n",
       "      <td>0.959126</td>\n",
       "      <td>0.941923</td>\n",
       "      <td>0.623312</td>\n",
       "      <td>0.348573</td>\n",
       "      <td>0.979446</td>\n",
       "    </tr>\n",
       "  </tbody>\n",
       "</table>\n",
       "</div>"
      ],
      "text/plain": [
       "                   A         B         C         D         E\n",
       "2019-05-01  0.315118  0.966615  0.992685  0.214536  0.292566\n",
       "2019-05-02  0.584462  0.520410  0.493577  0.672422  0.624682\n",
       "2019-05-03  0.921174  0.412787  0.005845  0.025251  0.471946\n",
       "2019-05-04  0.163483  0.515057  0.312956  0.396357  0.997597\n",
       "2019-05-05  0.920280  0.135982  0.436941  0.741011  0.486268\n",
       "2019-05-06  0.959126  0.941923  0.623312  0.348573  0.979446"
      ]
     },
     "execution_count": 119,
     "metadata": {},
     "output_type": "execute_result"
    }
   ],
   "source": [
    "df = pd.DataFrame(np.random.rand(6,5),index=dates,columns=list('ABCDE'))\n",
    "df"
   ]
  },
  {
   "cell_type": "markdown",
   "metadata": {},
   "source": [
    "### Creating a DataFrame by passing a dict of objects that can be converted to series-like."
   ]
  },
  {
   "cell_type": "code",
   "execution_count": 120,
   "metadata": {},
   "outputs": [
    {
     "data": {
      "text/html": [
       "<div>\n",
       "<style scoped>\n",
       "    .dataframe tbody tr th:only-of-type {\n",
       "        vertical-align: middle;\n",
       "    }\n",
       "\n",
       "    .dataframe tbody tr th {\n",
       "        vertical-align: top;\n",
       "    }\n",
       "\n",
       "    .dataframe thead th {\n",
       "        text-align: right;\n",
       "    }\n",
       "</style>\n",
       "<table border=\"1\" class=\"dataframe\">\n",
       "  <thead>\n",
       "    <tr style=\"text-align: right;\">\n",
       "      <th></th>\n",
       "      <th>A</th>\n",
       "      <th>B</th>\n",
       "      <th>C</th>\n",
       "      <th>D</th>\n",
       "      <th>E</th>\n",
       "      <th>F</th>\n",
       "    </tr>\n",
       "  </thead>\n",
       "  <tbody>\n",
       "    <tr>\n",
       "      <th>0</th>\n",
       "      <td>1.0</td>\n",
       "      <td>2019-05-01</td>\n",
       "      <td>2.2</td>\n",
       "      <td>3</td>\n",
       "      <td>test</td>\n",
       "      <td>foo</td>\n",
       "    </tr>\n",
       "    <tr>\n",
       "      <th>1</th>\n",
       "      <td>1.0</td>\n",
       "      <td>2019-05-01</td>\n",
       "      <td>2.2</td>\n",
       "      <td>3</td>\n",
       "      <td>train</td>\n",
       "      <td>foo</td>\n",
       "    </tr>\n",
       "    <tr>\n",
       "      <th>2</th>\n",
       "      <td>1.0</td>\n",
       "      <td>2019-05-01</td>\n",
       "      <td>2.2</td>\n",
       "      <td>3</td>\n",
       "      <td>test</td>\n",
       "      <td>foo</td>\n",
       "    </tr>\n",
       "    <tr>\n",
       "      <th>3</th>\n",
       "      <td>1.0</td>\n",
       "      <td>2019-05-01</td>\n",
       "      <td>2.2</td>\n",
       "      <td>3</td>\n",
       "      <td>train2</td>\n",
       "      <td>foo</td>\n",
       "    </tr>\n",
       "  </tbody>\n",
       "</table>\n",
       "</div>"
      ],
      "text/plain": [
       "     A          B    C  D       E    F\n",
       "0  1.0 2019-05-01  2.2  3    test  foo\n",
       "1  1.0 2019-05-01  2.2  3   train  foo\n",
       "2  1.0 2019-05-01  2.2  3    test  foo\n",
       "3  1.0 2019-05-01  2.2  3  train2  foo"
      ]
     },
     "execution_count": 120,
     "metadata": {},
     "output_type": "execute_result"
    }
   ],
   "source": [
    "df2 = pd.DataFrame({'A':1.,\n",
    "                   'B':pd.Timestamp('20190501'),\n",
    "                   'C':pd.Series(2.2,index=list(range(4)),dtype='float32'),\n",
    "                   'D':np.array([3]*4,dtype='int32'),\n",
    "                   'E':pd.Categorical(['test','train','test','train2']),\n",
    "                   'F':'foo'})\n",
    "df2"
   ]
  },
  {
   "cell_type": "markdown",
   "metadata": {},
   "source": [
    "**The columns of the resulting DataFrame have different dtypes.**"
   ]
  },
  {
   "cell_type": "code",
   "execution_count": 121,
   "metadata": {},
   "outputs": [
    {
     "data": {
      "text/plain": [
       "A           float64\n",
       "B    datetime64[ns]\n",
       "C           float32\n",
       "D             int32\n",
       "E          category\n",
       "F            object\n",
       "dtype: object"
      ]
     },
     "execution_count": 121,
     "metadata": {},
     "output_type": "execute_result"
    }
   ],
   "source": [
    "df2.dtypes"
   ]
  },
  {
   "cell_type": "markdown",
   "metadata": {},
   "source": [
    "## Viewing Data"
   ]
  },
  {
   "cell_type": "markdown",
   "metadata": {},
   "source": [
    "**Here is how to view the top and bottom rows of the frame:**"
   ]
  },
  {
   "cell_type": "code",
   "execution_count": 122,
   "metadata": {},
   "outputs": [
    {
     "data": {
      "text/html": [
       "<div>\n",
       "<style scoped>\n",
       "    .dataframe tbody tr th:only-of-type {\n",
       "        vertical-align: middle;\n",
       "    }\n",
       "\n",
       "    .dataframe tbody tr th {\n",
       "        vertical-align: top;\n",
       "    }\n",
       "\n",
       "    .dataframe thead th {\n",
       "        text-align: right;\n",
       "    }\n",
       "</style>\n",
       "<table border=\"1\" class=\"dataframe\">\n",
       "  <thead>\n",
       "    <tr style=\"text-align: right;\">\n",
       "      <th></th>\n",
       "      <th>A</th>\n",
       "      <th>B</th>\n",
       "      <th>C</th>\n",
       "      <th>D</th>\n",
       "      <th>E</th>\n",
       "    </tr>\n",
       "  </thead>\n",
       "  <tbody>\n",
       "    <tr>\n",
       "      <th>2019-05-01</th>\n",
       "      <td>0.315118</td>\n",
       "      <td>0.966615</td>\n",
       "      <td>0.992685</td>\n",
       "      <td>0.214536</td>\n",
       "      <td>0.292566</td>\n",
       "    </tr>\n",
       "    <tr>\n",
       "      <th>2019-05-02</th>\n",
       "      <td>0.584462</td>\n",
       "      <td>0.520410</td>\n",
       "      <td>0.493577</td>\n",
       "      <td>0.672422</td>\n",
       "      <td>0.624682</td>\n",
       "    </tr>\n",
       "    <tr>\n",
       "      <th>2019-05-03</th>\n",
       "      <td>0.921174</td>\n",
       "      <td>0.412787</td>\n",
       "      <td>0.005845</td>\n",
       "      <td>0.025251</td>\n",
       "      <td>0.471946</td>\n",
       "    </tr>\n",
       "  </tbody>\n",
       "</table>\n",
       "</div>"
      ],
      "text/plain": [
       "                   A         B         C         D         E\n",
       "2019-05-01  0.315118  0.966615  0.992685  0.214536  0.292566\n",
       "2019-05-02  0.584462  0.520410  0.493577  0.672422  0.624682\n",
       "2019-05-03  0.921174  0.412787  0.005845  0.025251  0.471946"
      ]
     },
     "execution_count": 122,
     "metadata": {},
     "output_type": "execute_result"
    }
   ],
   "source": [
    "df.head(3)"
   ]
  },
  {
   "cell_type": "code",
   "execution_count": 123,
   "metadata": {},
   "outputs": [
    {
     "data": {
      "text/html": [
       "<div>\n",
       "<style scoped>\n",
       "    .dataframe tbody tr th:only-of-type {\n",
       "        vertical-align: middle;\n",
       "    }\n",
       "\n",
       "    .dataframe tbody tr th {\n",
       "        vertical-align: top;\n",
       "    }\n",
       "\n",
       "    .dataframe thead th {\n",
       "        text-align: right;\n",
       "    }\n",
       "</style>\n",
       "<table border=\"1\" class=\"dataframe\">\n",
       "  <thead>\n",
       "    <tr style=\"text-align: right;\">\n",
       "      <th></th>\n",
       "      <th>A</th>\n",
       "      <th>B</th>\n",
       "      <th>C</th>\n",
       "      <th>D</th>\n",
       "      <th>E</th>\n",
       "    </tr>\n",
       "  </thead>\n",
       "  <tbody>\n",
       "    <tr>\n",
       "      <th>2019-05-04</th>\n",
       "      <td>0.163483</td>\n",
       "      <td>0.515057</td>\n",
       "      <td>0.312956</td>\n",
       "      <td>0.396357</td>\n",
       "      <td>0.997597</td>\n",
       "    </tr>\n",
       "    <tr>\n",
       "      <th>2019-05-05</th>\n",
       "      <td>0.920280</td>\n",
       "      <td>0.135982</td>\n",
       "      <td>0.436941</td>\n",
       "      <td>0.741011</td>\n",
       "      <td>0.486268</td>\n",
       "    </tr>\n",
       "    <tr>\n",
       "      <th>2019-05-06</th>\n",
       "      <td>0.959126</td>\n",
       "      <td>0.941923</td>\n",
       "      <td>0.623312</td>\n",
       "      <td>0.348573</td>\n",
       "      <td>0.979446</td>\n",
       "    </tr>\n",
       "  </tbody>\n",
       "</table>\n",
       "</div>"
      ],
      "text/plain": [
       "                   A         B         C         D         E\n",
       "2019-05-04  0.163483  0.515057  0.312956  0.396357  0.997597\n",
       "2019-05-05  0.920280  0.135982  0.436941  0.741011  0.486268\n",
       "2019-05-06  0.959126  0.941923  0.623312  0.348573  0.979446"
      ]
     },
     "execution_count": 123,
     "metadata": {},
     "output_type": "execute_result"
    }
   ],
   "source": [
    "df.tail(3)"
   ]
  },
  {
   "cell_type": "markdown",
   "metadata": {},
   "source": [
    "**Display the index, columns:**\n",
    "\n"
   ]
  },
  {
   "cell_type": "code",
   "execution_count": 124,
   "metadata": {},
   "outputs": [
    {
     "data": {
      "text/plain": [
       "DatetimeIndex(['2019-05-01', '2019-05-02', '2019-05-03', '2019-05-04',\n",
       "               '2019-05-05', '2019-05-06'],\n",
       "              dtype='datetime64[ns]', freq='D')"
      ]
     },
     "execution_count": 124,
     "metadata": {},
     "output_type": "execute_result"
    }
   ],
   "source": [
    "df.index"
   ]
  },
  {
   "cell_type": "code",
   "execution_count": 125,
   "metadata": {},
   "outputs": [
    {
     "data": {
      "text/plain": [
       "Index([u'A', u'B', u'C', u'D', u'E'], dtype='object')"
      ]
     },
     "execution_count": 125,
     "metadata": {},
     "output_type": "execute_result"
    }
   ],
   "source": [
    "df.columns"
   ]
  },
  {
   "cell_type": "markdown",
   "metadata": {},
   "source": [
    "**DataFrame.to_numpy() gives a NumPy representation of the underlying data**"
   ]
  },
  {
   "cell_type": "code",
   "execution_count": 126,
   "metadata": {},
   "outputs": [
    {
     "data": {
      "text/plain": [
       "array([[0.31511757, 0.96661455, 0.99268472, 0.21453557, 0.29256559],\n",
       "       [0.58446154, 0.52041028, 0.49357726, 0.67242175, 0.62468238],\n",
       "       [0.9211737 , 0.4127874 , 0.00584512, 0.02525107, 0.47194616],\n",
       "       [0.16348269, 0.51505713, 0.31295575, 0.39635691, 0.99759666],\n",
       "       [0.92028042, 0.13598207, 0.43694137, 0.74101107, 0.48626843],\n",
       "       [0.95912614, 0.94192322, 0.6233117 , 0.34857317, 0.97944608]])"
      ]
     },
     "execution_count": 126,
     "metadata": {},
     "output_type": "execute_result"
    }
   ],
   "source": [
    "df.to_numpy()"
   ]
  },
  {
   "cell_type": "code",
   "execution_count": 127,
   "metadata": {},
   "outputs": [
    {
     "data": {
      "text/plain": [
       "array([[1.0, Timestamp('2019-05-01 00:00:00'), 2.200000047683716, 3,\n",
       "        'test', 'foo'],\n",
       "       [1.0, Timestamp('2019-05-01 00:00:00'), 2.200000047683716, 3,\n",
       "        'train', 'foo'],\n",
       "       [1.0, Timestamp('2019-05-01 00:00:00'), 2.200000047683716, 3,\n",
       "        'test', 'foo'],\n",
       "       [1.0, Timestamp('2019-05-01 00:00:00'), 2.200000047683716, 3,\n",
       "        'train2', 'foo']], dtype=object)"
      ]
     },
     "execution_count": 127,
     "metadata": {},
     "output_type": "execute_result"
    }
   ],
   "source": [
    "df2.to_numpy()"
   ]
  },
  {
   "cell_type": "markdown",
   "metadata": {},
   "source": [
    "**Transposing your data:**\n"
   ]
  },
  {
   "cell_type": "code",
   "execution_count": 128,
   "metadata": {},
   "outputs": [
    {
     "data": {
      "text/html": [
       "<div>\n",
       "<style scoped>\n",
       "    .dataframe tbody tr th:only-of-type {\n",
       "        vertical-align: middle;\n",
       "    }\n",
       "\n",
       "    .dataframe tbody tr th {\n",
       "        vertical-align: top;\n",
       "    }\n",
       "\n",
       "    .dataframe thead th {\n",
       "        text-align: right;\n",
       "    }\n",
       "</style>\n",
       "<table border=\"1\" class=\"dataframe\">\n",
       "  <thead>\n",
       "    <tr style=\"text-align: right;\">\n",
       "      <th></th>\n",
       "      <th>2019-05-01 00:00:00</th>\n",
       "      <th>2019-05-02 00:00:00</th>\n",
       "      <th>2019-05-03 00:00:00</th>\n",
       "      <th>2019-05-04 00:00:00</th>\n",
       "      <th>2019-05-05 00:00:00</th>\n",
       "      <th>2019-05-06 00:00:00</th>\n",
       "    </tr>\n",
       "  </thead>\n",
       "  <tbody>\n",
       "    <tr>\n",
       "      <th>A</th>\n",
       "      <td>0.315118</td>\n",
       "      <td>0.584462</td>\n",
       "      <td>0.921174</td>\n",
       "      <td>0.163483</td>\n",
       "      <td>0.920280</td>\n",
       "      <td>0.959126</td>\n",
       "    </tr>\n",
       "    <tr>\n",
       "      <th>B</th>\n",
       "      <td>0.966615</td>\n",
       "      <td>0.520410</td>\n",
       "      <td>0.412787</td>\n",
       "      <td>0.515057</td>\n",
       "      <td>0.135982</td>\n",
       "      <td>0.941923</td>\n",
       "    </tr>\n",
       "    <tr>\n",
       "      <th>C</th>\n",
       "      <td>0.992685</td>\n",
       "      <td>0.493577</td>\n",
       "      <td>0.005845</td>\n",
       "      <td>0.312956</td>\n",
       "      <td>0.436941</td>\n",
       "      <td>0.623312</td>\n",
       "    </tr>\n",
       "    <tr>\n",
       "      <th>D</th>\n",
       "      <td>0.214536</td>\n",
       "      <td>0.672422</td>\n",
       "      <td>0.025251</td>\n",
       "      <td>0.396357</td>\n",
       "      <td>0.741011</td>\n",
       "      <td>0.348573</td>\n",
       "    </tr>\n",
       "    <tr>\n",
       "      <th>E</th>\n",
       "      <td>0.292566</td>\n",
       "      <td>0.624682</td>\n",
       "      <td>0.471946</td>\n",
       "      <td>0.997597</td>\n",
       "      <td>0.486268</td>\n",
       "      <td>0.979446</td>\n",
       "    </tr>\n",
       "  </tbody>\n",
       "</table>\n",
       "</div>"
      ],
      "text/plain": [
       "   2019-05-01  2019-05-02  2019-05-03  2019-05-04  2019-05-05  2019-05-06\n",
       "A    0.315118    0.584462    0.921174    0.163483    0.920280    0.959126\n",
       "B    0.966615    0.520410    0.412787    0.515057    0.135982    0.941923\n",
       "C    0.992685    0.493577    0.005845    0.312956    0.436941    0.623312\n",
       "D    0.214536    0.672422    0.025251    0.396357    0.741011    0.348573\n",
       "E    0.292566    0.624682    0.471946    0.997597    0.486268    0.979446"
      ]
     },
     "execution_count": 128,
     "metadata": {},
     "output_type": "execute_result"
    }
   ],
   "source": [
    "df.T"
   ]
  },
  {
   "cell_type": "markdown",
   "metadata": {},
   "source": [
    "**Sorting by an axis:**\n"
   ]
  },
  {
   "cell_type": "code",
   "execution_count": 129,
   "metadata": {},
   "outputs": [
    {
     "data": {
      "text/html": [
       "<div>\n",
       "<style scoped>\n",
       "    .dataframe tbody tr th:only-of-type {\n",
       "        vertical-align: middle;\n",
       "    }\n",
       "\n",
       "    .dataframe tbody tr th {\n",
       "        vertical-align: top;\n",
       "    }\n",
       "\n",
       "    .dataframe thead th {\n",
       "        text-align: right;\n",
       "    }\n",
       "</style>\n",
       "<table border=\"1\" class=\"dataframe\">\n",
       "  <thead>\n",
       "    <tr style=\"text-align: right;\">\n",
       "      <th></th>\n",
       "      <th>A</th>\n",
       "      <th>B</th>\n",
       "      <th>C</th>\n",
       "      <th>D</th>\n",
       "      <th>E</th>\n",
       "    </tr>\n",
       "  </thead>\n",
       "  <tbody>\n",
       "    <tr>\n",
       "      <th>2019-05-06</th>\n",
       "      <td>0.959126</td>\n",
       "      <td>0.941923</td>\n",
       "      <td>0.623312</td>\n",
       "      <td>0.348573</td>\n",
       "      <td>0.979446</td>\n",
       "    </tr>\n",
       "    <tr>\n",
       "      <th>2019-05-05</th>\n",
       "      <td>0.920280</td>\n",
       "      <td>0.135982</td>\n",
       "      <td>0.436941</td>\n",
       "      <td>0.741011</td>\n",
       "      <td>0.486268</td>\n",
       "    </tr>\n",
       "    <tr>\n",
       "      <th>2019-05-04</th>\n",
       "      <td>0.163483</td>\n",
       "      <td>0.515057</td>\n",
       "      <td>0.312956</td>\n",
       "      <td>0.396357</td>\n",
       "      <td>0.997597</td>\n",
       "    </tr>\n",
       "    <tr>\n",
       "      <th>2019-05-03</th>\n",
       "      <td>0.921174</td>\n",
       "      <td>0.412787</td>\n",
       "      <td>0.005845</td>\n",
       "      <td>0.025251</td>\n",
       "      <td>0.471946</td>\n",
       "    </tr>\n",
       "    <tr>\n",
       "      <th>2019-05-02</th>\n",
       "      <td>0.584462</td>\n",
       "      <td>0.520410</td>\n",
       "      <td>0.493577</td>\n",
       "      <td>0.672422</td>\n",
       "      <td>0.624682</td>\n",
       "    </tr>\n",
       "    <tr>\n",
       "      <th>2019-05-01</th>\n",
       "      <td>0.315118</td>\n",
       "      <td>0.966615</td>\n",
       "      <td>0.992685</td>\n",
       "      <td>0.214536</td>\n",
       "      <td>0.292566</td>\n",
       "    </tr>\n",
       "  </tbody>\n",
       "</table>\n",
       "</div>"
      ],
      "text/plain": [
       "                   A         B         C         D         E\n",
       "2019-05-06  0.959126  0.941923  0.623312  0.348573  0.979446\n",
       "2019-05-05  0.920280  0.135982  0.436941  0.741011  0.486268\n",
       "2019-05-04  0.163483  0.515057  0.312956  0.396357  0.997597\n",
       "2019-05-03  0.921174  0.412787  0.005845  0.025251  0.471946\n",
       "2019-05-02  0.584462  0.520410  0.493577  0.672422  0.624682\n",
       "2019-05-01  0.315118  0.966615  0.992685  0.214536  0.292566"
      ]
     },
     "execution_count": 129,
     "metadata": {},
     "output_type": "execute_result"
    }
   ],
   "source": [
    "df.sort_index(axis=0,ascending=False)"
   ]
  },
  {
   "cell_type": "markdown",
   "metadata": {},
   "source": [
    "**Sorting by values:**"
   ]
  },
  {
   "cell_type": "code",
   "execution_count": 114,
   "metadata": {},
   "outputs": [
    {
     "data": {
      "text/html": [
       "<div>\n",
       "<style scoped>\n",
       "    .dataframe tbody tr th:only-of-type {\n",
       "        vertical-align: middle;\n",
       "    }\n",
       "\n",
       "    .dataframe tbody tr th {\n",
       "        vertical-align: top;\n",
       "    }\n",
       "\n",
       "    .dataframe thead th {\n",
       "        text-align: right;\n",
       "    }\n",
       "</style>\n",
       "<table border=\"1\" class=\"dataframe\">\n",
       "  <thead>\n",
       "    <tr style=\"text-align: right;\">\n",
       "      <th></th>\n",
       "      <th>A</th>\n",
       "      <th>B</th>\n",
       "      <th>C</th>\n",
       "      <th>D</th>\n",
       "      <th>E</th>\n",
       "    </tr>\n",
       "  </thead>\n",
       "  <tbody>\n",
       "    <tr>\n",
       "      <th>2019-05-02</th>\n",
       "      <td>0.719861</td>\n",
       "      <td>0.182137</td>\n",
       "      <td>0.003867</td>\n",
       "      <td>0.339760</td>\n",
       "      <td>0.580781</td>\n",
       "    </tr>\n",
       "    <tr>\n",
       "      <th>2019-05-04</th>\n",
       "      <td>0.704505</td>\n",
       "      <td>0.095303</td>\n",
       "      <td>0.049040</td>\n",
       "      <td>0.962083</td>\n",
       "      <td>0.170940</td>\n",
       "    </tr>\n",
       "    <tr>\n",
       "      <th>2019-05-06</th>\n",
       "      <td>0.906800</td>\n",
       "      <td>0.564411</td>\n",
       "      <td>0.326441</td>\n",
       "      <td>0.505529</td>\n",
       "      <td>0.913726</td>\n",
       "    </tr>\n",
       "    <tr>\n",
       "      <th>2019-05-01</th>\n",
       "      <td>0.591868</td>\n",
       "      <td>0.794424</td>\n",
       "      <td>0.504491</td>\n",
       "      <td>0.303730</td>\n",
       "      <td>0.432085</td>\n",
       "    </tr>\n",
       "    <tr>\n",
       "      <th>2019-05-03</th>\n",
       "      <td>0.830056</td>\n",
       "      <td>0.159142</td>\n",
       "      <td>0.845862</td>\n",
       "      <td>0.922050</td>\n",
       "      <td>0.190491</td>\n",
       "    </tr>\n",
       "    <tr>\n",
       "      <th>2019-05-05</th>\n",
       "      <td>0.706721</td>\n",
       "      <td>0.182011</td>\n",
       "      <td>0.928425</td>\n",
       "      <td>0.255347</td>\n",
       "      <td>0.615760</td>\n",
       "    </tr>\n",
       "  </tbody>\n",
       "</table>\n",
       "</div>"
      ],
      "text/plain": [
       "                   A         B         C         D         E\n",
       "2019-05-02  0.719861  0.182137  0.003867  0.339760  0.580781\n",
       "2019-05-04  0.704505  0.095303  0.049040  0.962083  0.170940\n",
       "2019-05-06  0.906800  0.564411  0.326441  0.505529  0.913726\n",
       "2019-05-01  0.591868  0.794424  0.504491  0.303730  0.432085\n",
       "2019-05-03  0.830056  0.159142  0.845862  0.922050  0.190491\n",
       "2019-05-05  0.706721  0.182011  0.928425  0.255347  0.615760"
      ]
     },
     "execution_count": 114,
     "metadata": {},
     "output_type": "execute_result"
    }
   ],
   "source": [
    "df.sort_values(by='C')"
   ]
  },
  {
   "cell_type": "code",
   "execution_count": null,
   "metadata": {},
   "outputs": [],
   "source": []
  }
 ],
 "metadata": {
  "kernelspec": {
   "display_name": "Python 2",
   "language": "python",
   "name": "python2"
  },
  "language_info": {
   "codemirror_mode": {
    "name": "ipython",
    "version": 2
   },
   "file_extension": ".py",
   "mimetype": "text/x-python",
   "name": "python",
   "nbconvert_exporter": "python",
   "pygments_lexer": "ipython2",
   "version": "2.7.16"
  },
  "toc": {
   "base_numbering": 1,
   "nav_menu": {},
   "number_sections": true,
   "sideBar": true,
   "skip_h1_title": false,
   "title_cell": "Table of Contents",
   "title_sidebar": "Contents",
   "toc_cell": false,
   "toc_position": {},
   "toc_section_display": true,
   "toc_window_display": false
  }
 },
 "nbformat": 4,
 "nbformat_minor": 2
}
