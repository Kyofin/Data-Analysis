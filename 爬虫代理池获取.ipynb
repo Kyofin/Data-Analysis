{
 "cells": [
  {
   "cell_type": "markdown",
   "metadata": {},
   "source": [
    "## 西刺代理"
   ]
  },
  {
   "cell_type": "code",
   "execution_count": 7,
   "metadata": {},
   "outputs": [],
   "source": [
    "# -*- coding: utf-8 -*- \n",
    "import sys #要重新载入sys。因为 Python 初始化后会删除 sys.setdefaultencoding 这个方 法\n",
    "reload(sys) \n",
    "sys.setdefaultencoding('utf-8') \n",
    "\n",
    "import pandas as pd\n",
    "import requests\n",
    "from bs4 import BeautifulSoup\n",
    "\n",
    "\n",
    "def crawl_proxies():\n",
    "    \"\"\"\n",
    "    collect Proxy\n",
    "    :return:\n",
    "    \"\"\"\n",
    "    prox_list = []\n",
    "    for i in range(1, 20):\n",
    "        req_url = 'https://www.xicidaili.com/nn/%d' % i\n",
    "        response = requests.get(req_url, headers={\n",
    "            'Host': 'www.xicidaili.com',\n",
    "            'Upgrade-Insecure-Requests': '1',\n",
    "            'User-Agent': 'Mozilla/5.0 (Windows NT 10.0; Win64; x64) AppleWebKit/537.36 (KHTML, like Gecko) Chrome/73.0.3683.75 Safari/537.36',\n",
    "            'Cache-Control': 'no-cache',\n",
    "        })\n",
    "        if response.status_code == 200:\n",
    "            bs = BeautifulSoup(response.text, 'html5lib')\n",
    "            table = bs.find_all('table', id=\"ip_list\")[0]\n",
    "            for tr in table.find_all('tr', class_='odd'):\n",
    "                tds = tr.find_all('td')\n",
    "                ip = tds[1].text\n",
    "                port = tds[2].text\n",
    "                anonymous_ext = tds[4].text\n",
    "                http_type = tds[5].text\n",
    "                delay = float(tds[6].div['title'].replace('秒', ''))\n",
    "                survival = tds[8].text\n",
    "                validation_date = tds[9].text\n",
    "\n",
    "                print([ip, port, anonymous_ext, http_type, delay, survival, validation_date])\n",
    "                prox_list.append([ip, port, anonymous_ext, http_type, delay, survival, validation_date])\n",
    "        else:\n",
    "            print('Error occurs during visiting Lagou. The ERROR_CODE is {0}. Return: {1}'.format(\n",
    "                response.status_code, response.text))\n",
    "\n",
    "        col = [\n",
    "            'IP',\n",
    "            'Port',\n",
    "            'Anonymous',\n",
    "            'HTTP',\n",
    "            'Delay',\n",
    "            'Survival',\n",
    "            'ValidationDate'\n",
    "        ]\n",
    "        df = pd.DataFrame(prox_list, columns=col)\n",
    "        df.to_excel(\"./Proxy.xlsx\", sheet_name='Proxy', index=False)\n",
    "\n",
    "\n",
    "if __name__ == '__main__':\n",
    "    crawl_proxies()\n"
   ]
  }
 ],
 "metadata": {
  "kernelspec": {
   "display_name": "Python 2",
   "language": "python",
   "name": "python2"
  },
  "language_info": {
   "codemirror_mode": {
    "name": "ipython",
    "version": 2
   },
   "file_extension": ".py",
   "mimetype": "text/x-python",
   "name": "python",
   "nbconvert_exporter": "python",
   "pygments_lexer": "ipython2",
   "version": "2.7.16"
  },
  "toc": {
   "base_numbering": 1,
   "nav_menu": {},
   "number_sections": true,
   "sideBar": true,
   "skip_h1_title": false,
   "title_cell": "Table of Contents",
   "title_sidebar": "Contents",
   "toc_cell": false,
   "toc_position": {},
   "toc_section_display": true,
   "toc_window_display": false
  }
 },
 "nbformat": 4,
 "nbformat_minor": 2
}
